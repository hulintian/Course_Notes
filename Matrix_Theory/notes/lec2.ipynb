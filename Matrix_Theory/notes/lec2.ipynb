{
 "cells": [
  {
   "cell_type": "markdown",
   "id": "7822b6c4-4f46-4b2f-a0d0-fc6822852c4c",
   "metadata": {},
   "source": [
    "# 线性子空间"
   ]
  },
  {
   "cell_type": "code",
   "execution_count": 1,
   "id": "943a4614-9e18-4f3d-b389-ef8cb2260f07",
   "metadata": {},
   "outputs": [],
   "source": [
    "from sympy import Matrix, eye"
   ]
  },
  {
   "cell_type": "code",
   "execution_count": 14,
   "id": "53c96c74-c405-40cc-9400-7f59aefb224d",
   "metadata": {},
   "outputs": [],
   "source": [
    "P = Matrix([[1, -1, 1],\n",
    "           [1, -4, 6],\n",
    "           [2, 5, -3]])"
   ]
  },
  {
   "cell_type": "code",
   "execution_count": 15,
   "id": "16f65e66-558e-4af6-bba4-212d116d33ad",
   "metadata": {},
   "outputs": [
    {
     "data": {
      "text/latex": [
       "$\\displaystyle \\left[\\begin{matrix}1 & -1 & 1\\\\1 & -4 & 6\\\\2 & 5 & -3\\end{matrix}\\right]$"
      ],
      "text/plain": [
       "Matrix([\n",
       "[1, -1,  1],\n",
       "[1, -4,  6],\n",
       "[2,  5, -3]])"
      ]
     },
     "execution_count": 15,
     "metadata": {},
     "output_type": "execute_result"
    }
   ],
   "source": [
    "P"
   ]
  },
  {
   "cell_type": "code",
   "execution_count": 16,
   "id": "91414802-a230-4af5-b1f3-b06bd205a174",
   "metadata": {},
   "outputs": [
    {
     "data": {
      "text/plain": [
       "3"
      ]
     },
     "execution_count": 16,
     "metadata": {},
     "output_type": "execute_result"
    }
   ],
   "source": [
    "P.rank()"
   ]
  },
  {
   "cell_type": "code",
   "execution_count": 17,
   "id": "09d54aee-3538-4610-9fb5-4279e803b876",
   "metadata": {},
   "outputs": [
    {
     "data": {
      "text/latex": [
       "$\\displaystyle \\left[\\begin{matrix}\\frac{9}{10} & - \\frac{1}{10} & \\frac{1}{10}\\\\- \\frac{3}{4} & \\frac{1}{4} & \\frac{1}{4}\\\\- \\frac{13}{20} & \\frac{7}{20} & \\frac{3}{20}\\end{matrix}\\right]$"
      ],
      "text/plain": [
       "Matrix([\n",
       "[  9/10, -1/10, 1/10],\n",
       "[  -3/4,   1/4,  1/4],\n",
       "[-13/20,  7/20, 3/20]])"
      ]
     },
     "execution_count": 17,
     "metadata": {},
     "output_type": "execute_result"
    }
   ],
   "source": [
    "P.inv()"
   ]
  },
  {
   "cell_type": "code",
   "execution_count": null,
   "id": "8e5b0435-daf2-4c53-86b6-decdb32c5ac4",
   "metadata": {},
   "outputs": [],
   "source": []
  }
 ],
 "metadata": {
  "kernelspec": {
   "display_name": "Python 3 (ipykernel)",
   "language": "python",
   "name": "python3"
  },
  "language_info": {
   "codemirror_mode": {
    "name": "ipython",
    "version": 3
   },
   "file_extension": ".py",
   "mimetype": "text/x-python",
   "name": "python",
   "nbconvert_exporter": "python",
   "pygments_lexer": "ipython3",
   "version": "3.11.13"
  }
 },
 "nbformat": 4,
 "nbformat_minor": 5
}
